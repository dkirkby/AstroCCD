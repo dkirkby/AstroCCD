{
 "cells": [
  {
   "cell_type": "markdown",
   "metadata": {},
   "source": [
    "# Electrostatics of a Charge Coupled Device"
   ]
  },
  {
   "cell_type": "markdown",
   "metadata": {},
   "source": [
    "A pedagogical introduction to the electrostatics of astronomical CCD sensors and buried channels.  We only consider the 1D problem here, which corresponds to finding the potential as a function of depth in the center of a large pixel.\n",
    "See [this repo](https://github.com/craiglagegit/Poisson_CCD22) for the full 3D numerical calculation."
   ]
  },
  {
   "cell_type": "code",
   "execution_count": 1,
   "metadata": {
    "collapsed": false,
    "scrolled": true
   },
   "outputs": [
    {
     "name": "stdout",
     "output_type": "stream",
     "text": [
      "Populating the interactive namespace from numpy and matplotlib\n"
     ]
    }
   ],
   "source": [
    "%pylab inline"
   ]
  },
  {
   "cell_type": "code",
   "execution_count": 2,
   "metadata": {
    "collapsed": true
   },
   "outputs": [],
   "source": [
    "import scipy.sparse\n",
    "import scipy.sparse.linalg"
   ]
  },
  {
   "cell_type": "code",
   "execution_count": 3,
   "metadata": {
    "collapsed": true
   },
   "outputs": [],
   "source": [
    "import astropy.units as u\n",
    "import astropy.constants"
   ]
  },
  {
   "cell_type": "markdown",
   "metadata": {},
   "source": [
    "## Poisson Equation for Semiconductors"
   ]
  },
  {
   "cell_type": "markdown",
   "metadata": {},
   "source": [
    "### Poisson Equation in an Inhomogeneous Medium"
   ]
  },
  {
   "cell_type": "markdown",
   "metadata": {},
   "source": [
    "The Poisson equation for electrostatics in a vacuum is:\n",
    "$$\n",
    "    \\epsilon_0 \\nabla^2 \\phi(x) = \\rho(x) \\; ,\n",
    "$$\n",
    "where $\\phi$ is the electric potential [Volts], $\\rho$ is the charge density [Coulombs/cm$^3$], and the constant\n",
    "$$\n",
    "\\epsilon_0 \\simeq 8.85 \\times 10^{-14} \\;\\text{F/cm}\n",
    "$$\n",
    "is the [permittivity](https://en.wikipedia.org/wiki/Permittivity) of free space [Farads/cm]. Since a Farad equals a Coulomb/Volt (via $Q = CV$), the units of both sides are [Volts/cm$^2$].  A related quantity is the electric field vector:\n",
    "$$\n",
    "\\vec{E}(x) = \\nabla \\phi(x)\n",
    "$$\n",
    "with units [Volts/cm].  Note that none of the quantities above are written as functions of time since the Poisson equation describes electrostatic equilibrium.\n",
    "\n",
    "A useful semiconductor has regions with different values of the permittivity so we need a generalized Poisson equation with $\\epsilon_0 \\rightarrow \\epsilon(x)$, which is:\n",
    "$$\n",
    "    \\nabla\\cdot (\\epsilon(x)\\nabla\\phi(x)) =\n",
    "    \\nabla\\epsilon(x)\\cdot\\nabla\\phi(x) + \\epsilon(x) \\nabla^2\\phi(x) =\n",
    "    \\rho(x) \\; .\n",
    "$$\n",
    "In a region where $\\epsilon(x)$ is constant, this reduces to the usual Poisson equation:\n",
    "$$\n",
    "\\epsilon(x) \\nabla^2 \\phi(x) = \\rho(x) \\; .\n",
    "$$\n",
    "Also, a discontinuity in $\\epsilon(x)$ leads to a discontinuity in $\\vec{E}(x)$ but the potential $\\phi(x)$ and displacement field\n",
    "$$\n",
    "\\vec{D}(x) \\equiv \\epsilon(x)\\nabla\\phi(x)\n",
    "$$\n",
    "are still continuous."
   ]
  },
  {
   "cell_type": "markdown",
   "metadata": {},
   "source": [
    "### Material Properties"
   ]
  },
  {
   "cell_type": "markdown",
   "metadata": {},
   "source": [
    "The permittivity of silicon is usually assumed to be independent of doping (although see [here](http://www.doiserbia.nb.rs/img/doi/1451-4869/2004/1451-48690402237R.pdf)):\n",
    "$$\n",
    "\\epsilon_{Si} = 11.68 \\epsilon_0 \\; .\n",
    "$$\n",
    "The other important material in a practical semiconductor is insulator, e.g. silicon dioxide with:\n",
    "$$\n",
    "\\epsilon_{SiO2} = 3.9 \\epsilon_0 \\; .\n",
    "$$"
   ]
  },
  {
   "cell_type": "markdown",
   "metadata": {},
   "source": [
    "### Charge Density"
   ]
  },
  {
   "cell_type": "markdown",
   "metadata": {},
   "source": [
    "The general form of the charge density in a semiconductor is (see eqn. 2.1 [here](http://www-tcad.stanford.edu/tcad/reports/piscesII.pdf)):\n",
    "$$\n",
    "\\rho = -q (p - n + N_D - N_A) \\; ,\n",
    "$$\n",
    "where $q$ is the electron charge, $p$ and $n$ are the concentrations [#/cm$^3$] of free hole and electron carriers, and $N_D$ and $N_A$ are the concentrations of fixed donor and acceptor ions.  The physical picture associated with these terms is that silicon is intrinsically electrically neutral:\n",
    "$$\n",
    "n(x) = N_D(x) \\quad , \\quad p(x) = N_A(x) \\; ,\n",
    "$$\n",
    "The size of $n=N_D$ and $p=N_A$ depends on the doping and temperature $T$: undoped silicon has\n",
    "$$\n",
    "n = p = n_i(T) \\; ,\n",
    "$$\n",
    "while doped silicon has different $n$ and $p$ but still conserves their product:\n",
    "$$\n",
    "n \\cdot p = n_i(T)^2 \\; .\n",
    "$$\n",
    "Therefore, a strongly n-doped region has $n \\gg p$ which we approximate by setting $p = N_A = 0$, and similarly for a p-doped region.\n",
    "\n",
    "An applied voltage creates an electric field that effectively sweeps away all of the free electrons and holes, $n(x) = p(x) \\simeq 0$, leaving behind the fixed donor (+) and acceptor (-) ions. This leads to the depletion approximation for a doped region where an electric field is present. Specifically, in n-doped silicon we approximate:\n",
    "$$\n",
    "\\rho(x) = -q N_D(x) = -q \\rho_n(x)\n",
    "$$\n",
    "and in p-doped silicon:\n",
    "$$\n",
    "\\rho(x) = +q N_A(x) = +q \\rho_p(x)\n",
    "$$\n",
    "where $\\rho_n$ and $\\rho_p$ are the doping concentrations in [#/cm$^3$].  Since doping in a surface layer is usually specified in [#/cm$^2$], it has to be first converted to a concentration by dividing by the layer thickness."
   ]
  },
  {
   "cell_type": "markdown",
   "metadata": {},
   "source": [
    "### Doped Silicon"
   ]
  },
  {
   "cell_type": "markdown",
   "metadata": {},
   "source": [
    "Define the emperical intrinsic concentration formula given [here](http://dx.doi.org/10.1063/1.354551):"
   ]
  },
  {
   "cell_type": "code",
   "execution_count": 4,
   "metadata": {
    "collapsed": true
   },
   "outputs": [],
   "source": [
    "def ni(T):\n",
    "    return 5.29e19 * (T / 300) ** 2.54 * np.exp(-6726. / T)"
   ]
  },
  {
   "cell_type": "markdown",
   "metadata": {},
   "source": [
    "Plot the intrinsic carrier concentration vs temperature covering the range from liquid nitrogen (63K - 77.2K) up to room temperature $\\simeq$300K.  The `CCDTemperature` parameter in `data/run1/bf.cfg` is set to 173K."
   ]
  },
  {
   "cell_type": "code",
   "execution_count": 5,
   "metadata": {
    "collapsed": false
   },
   "outputs": [
    {
     "data": {
      "image/png": "[encoded data removed]",
      "text/plain": [
       "<matplotlib.figure.Figure at 0x1094f1150>"
      ]
     },
     "metadata": {},
     "output_type": "display_data"
    }
   ],
   "source": [
    "def plot_ni_vs_T(Tmin=50., Tmax=350.):\n",
    "    T = np.linspace(Tmin, Tmax, 200)\n",
    "    niT = ni(T)\n",
    "    plt.plot(T, niT, 'k-')\n",
    "    plt.yscale('log')\n",
    "    plt.grid()\n",
    "    plt.xlabel('Temperature T [K]')\n",
    "    plt.ylabel('Concentration [#/cm$^3$]')\n",
    "    plt.axvline(300., ls='--', lw=2, c='r')\n",
    "    plt.axvline(63.0, ls='--', lw=2, c='b')\n",
    "    plt.axvline(77.2, ls='--', lw=2, c='b')\n",
    "    plt.axvline(173., ls='--', lw=2, c='g')\n",
    "\n",
    "plot_ni_vs_T()"
   ]
  },
  {
   "cell_type": "markdown",
   "metadata": {},
   "source": [
    "The concentrations in the `data/run1/bf.cfg` config file are summarized in the table below:\n",
    "\n",
    "Name               | #/cm3    | #/cm2   | t [um]\n",
    "-------------------|----------|---------|--------\n",
    "BackgroundDoping   | -1.0e12  |         | 100.0\n",
    "ChannelStopDoping  | -0.5e16  | -2.0e12 | 2.0\n",
    "ChannelDoping      | +0.8e16  | +0.8e12 | 1.0\n",
    "\n",
    "Note that these values have a sign that indicates whether they represent n (< 0) or p (> 0)."
   ]
  },
  {
   "cell_type": "code",
   "execution_count": 6,
   "metadata": {
    "collapsed": false,
    "scrolled": false
   },
   "outputs": [
    {
     "data": {
      "image/png": "[encoded data removed]",
      "text/plain": [
       "<matplotlib.figure.Figure at 0x10945a990>"
      ]
     },
     "metadata": {},
     "output_type": "display_data"
    }
   ],
   "source": [
    "def plot_doping(T=173.0, cmax=1e17):\n",
    "    niT = ni(T)\n",
    "    cmin = niT ** 2 / cmax\n",
    "    n = np.logspace(np.log10(cmin), np.log10(cmax), 50)\n",
    "    p = niT ** 2 / n\n",
    "    plt.plot(n, p)\n",
    "    plt.xscale('log')\n",
    "    plt.yscale('log')\n",
    "    plt.gca().set_aspect(1.0)\n",
    "    plt.xlabel('n concentration [#/cm$^3$]')\n",
    "    plt.ylabel('p concentration [#/cm$^3$]')\n",
    "    plt.plot([cmin, cmax], [cmin, cmax], 'k--')\n",
    "    \n",
    "    plt.axvline(1e12, ls=':', c='r')\n",
    "    plt.axvline(0.5e16, ls=':', c='r')\n",
    "    plt.axhline(0.8e16, ls=':', c='r')\n",
    "    \n",
    "plot_doping()"
   ]
  },
  {
   "cell_type": "markdown",
   "metadata": {},
   "source": [
    "## 1D Solution"
   ]
  },
  {
   "cell_type": "markdown",
   "metadata": {},
   "source": [
    "In 1D, the Poisson equation above reduces to:\n",
    "$$\n",
    " \\epsilon'(x) \\phi'(x) + \\epsilon(x) \\phi''(x) = \\rho(x) \\; .\n",
    "$$\n",
    "We also need to specify the domain, $0 \\le x \\le x_{\\text{max}}$, and its boundary conditions, which we take to be:\n",
    "$$\n",
    "    \\phi(0) = V_g \\quad , \\quad \\phi(x_{\\text{max}}) = V_s \\; ,\n",
    "$$\n",
    "where $V_g$ and $V_s$ are the externally imposed gate and substrate voltages."
   ]
  },
  {
   "cell_type": "markdown",
   "metadata": {},
   "source": [
    "### Analytic Solution"
   ]
  },
  {
   "cell_type": "markdown",
   "metadata": {},
   "source": [
    "Appendix A of [this paper](http://dx.doi.org/10.1109/TED.2002.806476) solves the Poisson equation for a piecewise constant $\\epsilon(x)$ and $\\rho(x)$ that represents an three layer device: oxide + p(NA) + n--(ND).  The paper is missing an equation for $V_J$ but it can be determined from other equations:\n",
    "$$\n",
    "V_J = V_G - V_{FB} - E_{SiO2} d - E_J y_J - V_p' \\; .\n",
    "$$\n",
    "Also note that the paper incorrectly states that the solution exhibits continuity of the electric field at $y = 0$: it is the displacement field that is continuous."
   ]
  },
  {
   "cell_type": "code",
   "execution_count": 7,
   "metadata": {
    "collapsed": false,
    "scrolled": true
   },
   "outputs": [],
   "source": [
    "def analytic_solve(oxide_thickness, silicon_thickness, channel_depth, channel_doping, substrate_doping,\n",
    "                   gate_voltage, substrate_bias, n_grid=2000):\n",
    "    \"\"\"Solve the 1D Poisson equation for a three-layer CCD with piecewise constant doping.\n",
    "    \n",
    "    The channel doping will be converted to the number density channel_doping / channel_depth.\n",
    "    \n",
    "    The channel and substrate doping values should have opposite signs.  A negative (positive) value\n",
    "    indicates an n-doped (p-doped) region.\n",
    "    \n",
    "    All inputs should be specified with units.\n",
    "    \"\"\"\n",
    "    # Prepare constants.\n",
    "    q = astropy.constants.e.to(u.C) # explicit conversion required to resolve EMU / ESU ambiguity\n",
    "    eps_SiO2 = 3.9 * astropy.constants.eps0\n",
    "    eps_Si = 11.68 * astropy.constants.eps0\n",
    "    d, y_J, y_N = oxide_thickness, channel_depth, silicon_thickness - channel_depth\n",
    "    N_A, N_D = channel_doping / channel_depth, -substrate_doping\n",
    "    V_G, V_sub = gate_voltage, substrate_bias\n",
    "    V_FB = 0. * u.V\n",
    "    \n",
    "    # Evaluate (A13)-(A15)\n",
    "    V_SiO2_p = q * N_A * y_J * d / eps_SiO2\n",
    "    V_p_p = q * N_A / (2 * eps_Si) * y_J ** 2\n",
    "    V_n_p = q * N_D / (2 * eps_Si) * y_N ** 2\n",
    "    \n",
    "    # Evaluate (A12)\n",
    "    E_J = (V_G - V_FB - V_SiO2_p - V_p_p - V_n_p - V_sub) / (y_N + y_J + (eps_Si / eps_SiO2) * d)\n",
    "    \n",
    "    # Evaluate (A16)-(A18) using formula above.\n",
    "    y_min = y_J + eps_Si / (q * N_A) * E_J\n",
    "    E_SiO2 = q * N_A * y_min / eps_SiO2\n",
    "    V_J = V_G - V_FB - E_SiO2 * d - E_J * y_J - V_p_p\n",
    "    V_min = V_J - q * N_A / (2 * eps_Si) * (y_J - y_min) ** 2\n",
    "    \n",
    "    # Initialize the solution grid in microns.\n",
    "    y = np.linspace(-d.to(u.um).value, (y_J + y_N).to(u.um).value, n_grid) * u.um\n",
    "    V = np.empty_like(y.value) * u.V\n",
    "    E = np.empty_like(y.value) * u.V / u.um\n",
    "    \n",
    "    # Define the 3 regions of the solution.\n",
    "    R1 = y < 0\n",
    "    R2 = (y >= 0) & (y < y_J)\n",
    "    R3 = y >= y_J\n",
    "    \n",
    "    # Evaluate (A4)-(A6) in Volts.\n",
    "    V[R1] = V_G - V_FB - E_SiO2 * (y[R1] + d)\n",
    "    V[R2] = V_min + q * N_A / (2 * eps_Si) * (y[R2] - y_min) ** 2\n",
    "    V[R3] = V_J - q * N_D / (2 * eps_Si) * (y[R3] - y_J) ** 2 - E_J * (y[R3] - y_J)\n",
    "    \n",
    "    # Evaluate (A7)-(A9)\n",
    "    E[R1] = E_SiO2\n",
    "    E[R2] = -q * N_A / eps_Si * (y[R2] - y_min)\n",
    "    E[R3] = q * N_D / eps_Si * (y[R3] - y_J) + E_J\n",
    "\n",
    "    return y, V, E"
   ]
  },
  {
   "cell_type": "code",
   "execution_count": 8,
   "metadata": {
    "collapsed": true
   },
   "outputs": [],
   "source": [
    "def plot_1d(y, V, E, y_zoom = 5 * u.um, y_layers=[], save=None):\n",
    "\n",
    "    fig, (lhs, rhs) = plt.subplots(1, 2, figsize=(8, 4))\n",
    "    \n",
    "    zoom = (y < y_zoom)\n",
    "    lhs.plot(y[zoom].to(u.um), V[zoom].to(u.V), lw=2, c='b')\n",
    "    lhs.set_xlabel('Depth [$\\mu$m]')\n",
    "    lhs.set_ylabel('Potential [V]', color='b')\n",
    "    lhs_r = lhs.twinx()\n",
    "    lhs_r.scatter(y[zoom].to(u.um), E[zoom].to(u.V / u.um), lw=0, color='r', s=4.)\n",
    "    lhs_r.set_ylabel('Electric Field [V/$\\mu$m]', color='r')\n",
    "    for y_layer in y_layers:\n",
    "        lhs.axvline(y_layer.to(u.um).value, ls='--', c='k')\n",
    "    lhs.set_xlim(y[0].to(u.um).value, y_zoom.to(u.um).value)\n",
    "\n",
    "    rhs.plot(y.to(u.um), V.to(u.V), lw=2, c='b')\n",
    "    rhs.set_xlabel('Depth [$\\mu$m]')\n",
    "    rhs.set_ylabel('Potential [V]', color='b')\n",
    "    rhs_r = rhs.twinx()\n",
    "    rhs_r.scatter(y.to(u.um), E.to(u.V / u.um), lw=0, color='r', s=1.)\n",
    "    rhs_r.set_ylabel('Electric Field [V/$\\mu$m]', color='r')\n",
    "    rhs.set_xlim(y[0].to(u.um).value, y[-1].to(u.um).value)\n",
    "    \n",
    "    plt.tight_layout()\n",
    "    if save:\n",
    "        plt.savefig(save)"
   ]
  },
  {
   "cell_type": "markdown",
   "metadata": {},
   "source": [
    "### Numerical Solution"
   ]
  },
  {
   "cell_type": "markdown",
   "metadata": {},
   "source": [
    "If we discretize $\\epsilon$, $\\phi$ and $\\rho$ on a uniform grid, $x_j = j\\Delta$ with $j = 0,1,\\ldots,N-1$, we can approximate the derivatives above using [second-order central finite differences](https://en.wikipedia.org/wiki/Finite_difference_coefficient) as:\n",
    "$$\n",
    "\\left(\\frac{\\epsilon_{j+1} - \\epsilon_{j-1}}{2\\Delta}\\right)\n",
    "\\left(\\frac{\\phi_{j+1} - \\phi_{j-1}}{2\\Delta}\\right) +\n",
    "\\epsilon_j \\left(\\frac{\\phi_{j+1} - 2\\phi_j + \\phi_{j-1}}{\\Delta^2}\\right) = \\rho_j \\; .\n",
    "$$\n",
    "These central-difference equations are only valid for interior points of our grid $1 \\le j \\le N-2$, so provide $N-2$ equations in the $N$ unknowns $\\phi_j$.  However, they are supplemented by the boundary conditions, which provide the extra two equations needed for a solution:\n",
    "$$\n",
    "    \\phi_0 = V_g \\quad , \\quad \\phi_{N-1} = V_s \\; .\n",
    "$$\n",
    "\n",
    "For the purposes of numerical solution, it is useful to write all the equations above as a single matrix equation:\n",
    "$$\n",
    "A \\vec{\\phi} = \\vec{c} \\; ,\n",
    "$$\n",
    "with:\n",
    "$$\n",
    "A = \\begin{pmatrix}\n",
    "1 & & & & \\\\\n",
    "a_{1,-} & b_1 & a_{1,+} & & & & \\\\\n",
    "& a_{2,-} & b_2 & a_{2,+} & & & \\\\\n",
    "\\\\\n",
    "& & \\ddots & \\ddots & \\ddots & \\\\\n",
    "\\\\\n",
    "& & & a_{N-2,-} & b_{N-2} & a_{N-2,+} \\\\\n",
    "& & & & & 1\n",
    "\\end{pmatrix} \\quad , \\quad\n",
    "\\vec{c} = \\begin{pmatrix}\n",
    "V_g \\\\ \\rho_1 \\\\ \\rho_2 \\\\ \\\\ \\vdots \\\\ \\\\ \\rho_{N-2} \\\\ V_s\n",
    "\\end{pmatrix} \\; .\n",
    "$$\n",
    "The coefficient matrix is sparse since all elements are zero except for:\n",
    "$$\n",
    "a_{j,\\pm} = \\frac{\\epsilon_j \\pm (\\epsilon_{j+1} - \\epsilon_{j-1})/4}{\\Delta^2} \\quad , \\quad\n",
    "b_j = -\\frac{2 \\epsilon_j}{\\Delta^2} \\; .\n",
    "$$\n",
    "The formal solution to this approximate problem is now:\n",
    "$$\n",
    "\\vec{\\phi} = A^{-1} \\vec{c}\n",
    "$$\n",
    "which can be solved efficiently using sparse-matrix algorithms."
   ]
  },
  {
   "cell_type": "code",
   "execution_count": 9,
   "metadata": {
    "collapsed": true
   },
   "outputs": [],
   "source": [
    "def build_matrix(epsilon, delta):\n",
    "    N = len(epsilon)\n",
    "    A = np.zeros(shape=(N, N))\n",
    "    delta_sq = delta ** 2\n",
    "    A[0, 0] = 1.\n",
    "    A[N-1, N - 1] = 1.\n",
    "    for j in xrange(1, N-1):\n",
    "        deps = (epsilon[j + 1] - epsilon[j - 1])\n",
    "        A[j, j - 1] = (epsilon[j] - 0.25 * deps) / delta_sq\n",
    "        A[j, j + 1] = (epsilon[j] + 0.25 * deps) / delta_sq\n",
    "        A[j, j] = -2 * epsilon[j] / delta_sq\n",
    "    return scipy.sparse.csr_matrix(A)"
   ]
  },
  {
   "cell_type": "code",
   "execution_count": 10,
   "metadata": {
    "collapsed": true
   },
   "outputs": [],
   "source": [
    "def build_cvec(rho, Vg, Vs):\n",
    "    cvec = rho.copy()\n",
    "    cvec[0] = Vg\n",
    "    cvec[-1] = Vs\n",
    "    return cvec"
   ]
  },
  {
   "cell_type": "code",
   "execution_count": 11,
   "metadata": {
    "collapsed": true
   },
   "outputs": [],
   "source": [
    "def numeric_solve(oxide_thickness, silicon_thickness, channel_depth, channel_doping, substrate_doping,\n",
    "                  gate_voltage, substrate_bias, n_grid=2000, gaussian=False):\n",
    "    \"\"\"\n",
    "    The numeric solver takes the same args as the analytic solver, plus a gaussian flag that selects\n",
    "    a Gaussian doping profile for the channel when True.\n",
    "    \"\"\"\n",
    "    # Initialize the solution grid in microns.\n",
    "    y = np.linspace(-oxide_thickness.to(u.um).value, silicon_thickness.to(u.um).value, n_grid) * u.um\n",
    "    delta = y[1] - y[0]\n",
    "\n",
    "    # Define the 3 regions of the solution.\n",
    "    R1 = y < 0\n",
    "    R2 = (y >= 0) & (y < channel_depth)\n",
    "    R3 = y >= channel_depth\n",
    "    \n",
    "    # Initialize the permittivity array.\n",
    "    epsilon = np.ones_like(y.value) * astropy.constants.eps0\n",
    "    epsilon[R1] *= 3.9\n",
    "    epsilon[R2 | R3] *= 11.68\n",
    "    \n",
    "    # Initialize the charge density array in units of C.\n",
    "    rho = np.empty_like(y.value) / u.cm ** 3\n",
    "    rho[R1] = 0.\n",
    "    rho[R2 | R3] = substrate_doping\n",
    "    # Give the same total number of fixed ions either a Gaussian or boxcar distribution.\n",
    "    if gaussian:\n",
    "        rho[R2 | R3] += 2 * (channel_doping - substrate_doping * channel_depth) * np.exp(\n",
    "            -0.5 * (y[R2 | R3] / channel_depth) ** 2) / np.sqrt(2 * np.pi) / channel_depth\n",
    "    else:\n",
    "        rho[R2] = channel_doping / channel_depth\n",
    "    rho *= astropy.constants.e.to(u.C) # explicit conversion required to resolve EMU / ESU ambiguity\n",
    "\n",
    "    # Initialize the approximate numerical problem.\n",
    "    A = build_matrix(epsilon.to(u.F / u.um).value, delta.to(u.um).value)\n",
    "    c = build_cvec(rho.to(u.C / u.um ** 3).value, gate_voltage.to(u.V).value, substrate_bias.to(u.V).value)\n",
    "    \n",
    "    # Solve the approximate numerical problem.\n",
    "    V = scipy.sparse.linalg.spsolve(A, c) * u.V\n",
    "    \n",
    "    # Calculate the electric field as -V'(x)\n",
    "    E = -np.gradient(V) / delta\n",
    "    \n",
    "    return y, V, E"
   ]
  },
  {
   "cell_type": "markdown",
   "metadata": {},
   "source": [
    "### Compare Analytic and Numeric Solutions"
   ]
  },
  {
   "cell_type": "code",
   "execution_count": 12,
   "metadata": {
    "collapsed": false
   },
   "outputs": [
    {
     "data": {
      "image/png": "[encoded data removed]",
      "text/plain": [
       "<matplotlib.figure.Figure at 0x109d13a10>"
      ]
     },
     "metadata": {},
     "output_type": "display_data"
    }
   ],
   "source": [
    "def test_analytic():\n",
    "    y, V, E = analytic_solve(\n",
    "        0.15 * u.um, 100.0 * u.um, 1.0 * u.um, 0.8e12 / u.cm ** 2, -1.0e12 / u.cm ** 3, 5 * u.V, 50 * u.V)\n",
    "    plot_1d(y, V, E, y_layers=[0. * u.um, 1.0 * u.um])\n",
    "\n",
    "test_analytic()"
   ]
  },
  {
   "cell_type": "code",
   "execution_count": 13,
   "metadata": {
    "collapsed": false
   },
   "outputs": [
    {
     "data": {
      "image/png": "[encoded data removed]",
      "text/plain": [
       "<matplotlib.figure.Figure at 0x10a14df10>"
      ]
     },
     "metadata": {},
     "output_type": "display_data"
    }
   ],
   "source": [
    "def test_numeric():\n",
    "    y, V, E = numeric_solve(\n",
    "        0.15 * u.um, 100.0 * u.um, 1.0 * u.um, 0.8e12 / u.cm ** 2, -1.0e12 / u.cm ** 3, 5 * u.V, 50 * u.V)\n",
    "    plot_1d(y, V, E, y_layers=[0. * u.um, 1.0 * u.um])\n",
    "\n",
    "test_numeric()"
   ]
  },
  {
   "cell_type": "markdown",
   "metadata": {},
   "source": [
    "### Compare Boxcar and Gaussian Channel Profiles"
   ]
  },
  {
   "cell_type": "code",
   "execution_count": 14,
   "metadata": {
    "collapsed": false
   },
   "outputs": [
    {
     "data": {
      "image/png": "[encoded data removed]",
      "text/plain": [
       "<matplotlib.figure.Figure at 0x109d92dd0>"
      ]
     },
     "metadata": {},
     "output_type": "display_data"
    }
   ],
   "source": [
    "def test_gaussian(save=None):\n",
    "    y, V, E = numeric_solve(\n",
    "        0.15 * u.um, 100.0 * u.um, 1.0 * u.um, 0.8e12 / u.cm ** 2, -1.0e12 / u.cm ** 3, 5 * u.V, 50 * u.V,\n",
    "        gaussian=True)\n",
    "    plot_1d(y, V, E, y_layers=[0. * u.um, 1.0 * u.um])\n",
    "    if save:\n",
    "        plt.savefig(save)\n",
    "\n",
    "test_gaussian('Poisson1D.png')"
   ]
  },
  {
   "cell_type": "code",
   "execution_count": null,
   "metadata": {
    "collapsed": true
   },
   "outputs": [],
   "source": []
  }
 ],
 "metadata": {
  "kernelspec": {
   "display_name": "Python 2",
   "language": "python",
   "name": "python2"
  },
  "language_info": {
   "codemirror_mode": {
    "name": "ipython",
    "version": 2
   },
   "file_extension": ".py",
   "mimetype": "text/x-python",
   "name": "python",
   "nbconvert_exporter": "python",
   "pygments_lexer": "ipython2",
   "version": "2.7.12"
  }
 },
 "nbformat": 4,
 "nbformat_minor": 0
}
